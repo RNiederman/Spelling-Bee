{
 "cells": [
  {
   "cell_type": "code",
   "execution_count": 70,
   "metadata": {
    "collapsed": true
   },
   "outputs": [],
   "source": [
    "import re\n",
    "import sys\n",
    "import pandas as pd\n",
    "import string as st\n",
    "from urllib.request import urlopen"
   ]
  },
  {
   "cell_type": "code",
   "execution_count": 71,
   "outputs": [],
   "source": [
    "def unique_letters(word):\n",
    "    a = set(word)\n",
    "    b = len(a)\n",
    "    return b"
   ],
   "metadata": {
    "collapsed": false,
    "pycharm": {
     "name": "#%%\n"
    }
   }
  },
  {
   "cell_type": "code",
   "execution_count": 72,
   "outputs": [],
   "source": [
    "def spelling_bee_points(wrd):\n",
    "    ul = unique_letters(wrd)\n",
    "    wl = len(wrd)\n",
    "    pts = wl if wl > 4 else 1\n",
    "    panagram = (ul == 7) * 7\n",
    "    pts = pts + panagram\n",
    "    return pts"
   ],
   "metadata": {
    "collapsed": false,
    "pycharm": {
     "name": "#%%\n"
    }
   }
  },
  {
   "cell_type": "code",
   "execution_count": 73,
   "outputs": [],
   "source": [
    "class SpellingBee:\n",
    "\n",
    "    def __init__(self, letters):\n",
    "        self.L = letters.upper()\n",
    "        self.letters_reqd = 7\n",
    "        self.url = 'https://norvig.com/ngrams/enable1.txt'\n",
    "\n",
    "        self.f = urlopen(self.url)\n",
    "        self.w = self.f.read().decode('utf-8').upper().split()\n",
    "        self.w = list(filter(lambda word1: len(word1) >= 4, self.w))\n",
    "        self.w = list(filter(lambda word2: \"S\" not in word2, self.w))\n",
    "        self.u = list(map(unique_letters, self.w))\n",
    "        self.p = list(map(spelling_bee_points, self.w))\n",
    "\n",
    "        self.d = {'Word':  self.w, 'Unique Letters':  self.u, 'Score':  self.p}\n",
    "        self.mwl = pd.DataFrame(self.d)\n",
    "        self.mwl = self.mwl[(self.mwl['Unique Letters']) <= 7]\n",
    "        self.mwl = self.mwl.sort_values(['Score', 'Word'], ascending=(False, True))\n",
    "\n",
    "        self.hc = pd.DataFrame()\n",
    "        self.word_count = 0\n",
    "\n",
    "\n",
    "    def filt_process(self):\n",
    "        ltrs = self.L.upper()\n",
    "        ltrs = re.findall(\"[A-Z]\", ltrs)\n",
    "        center = ltrs[0]\n",
    "        self.hc = self.mwl[self.mwl['Word'].str.contains(center)]\n",
    "        alphabet = set(st.ascii_uppercase)\n",
    "        bad_letters = alphabet.difference(set(ltrs))\n",
    "        for bd_lttr in bad_letters:\n",
    "            self.hc = self.hc[~self.hc['Word'].str.contains(bd_lttr)]\n",
    "        cols = [0, 2]\n",
    "        self.hc = self.hc[self.hc.columns[cols]]\n",
    "\n",
    "    def show_stats(self):\n",
    "        panagrams = self.hc[self.hc['Score'] >= 14]\n",
    "        print(f\"Panagrams: {len(panagrams)}\")\n",
    "        print(f\"Total Points: {sum(self.hc['Score'])}\")\n",
    "        self.word_count = len(self.hc)\n",
    "        print(f\"Words: {self.word_count}\")\n",
    "\n",
    "    def show_soln(self):\n",
    "        print()\n",
    "        pd.set_option('display.max_rows', self.word_count)\n",
    "        display(self.hc)"
   ],
   "metadata": {
    "collapsed": false,
    "pycharm": {
     "name": "#%%\n"
    }
   }
  },
  {
   "cell_type": "code",
   "execution_count": 74,
   "outputs": [],
   "source": [
    "sb_letters = \"blonged\""
   ],
   "metadata": {
    "collapsed": false,
    "pycharm": {
     "name": "#%%\n"
    }
   }
  },
  {
   "cell_type": "code",
   "execution_count": 75,
   "outputs": [],
   "source": [
    "reg_ex = re.compile('[^A-Za-z]')\n",
    "tester = reg_ex.sub('', sb_letters)\n",
    "if unique_letters(tester) != 7:\n",
    "    sys.exit(\"Wrong Amount of Letters\")"
   ],
   "metadata": {
    "collapsed": false,
    "pycharm": {
     "name": "#%%\n"
    }
   }
  },
  {
   "cell_type": "code",
   "execution_count": 76,
   "outputs": [
    {
     "name": "stdout",
     "output_type": "stream",
     "text": [
      "Panagrams: 3\n",
      "Total Points: 464\n",
      "Words: 92\n",
      "\n"
     ]
    },
    {
     "data": {
      "text/plain": "              Word  Score\n7458   BOONDOGGLED     18\n7457    BOONDOGGLE     17\n5879      BELONGED     15\n5392     BEBLOODED      9\n43000    NONBONDED      9\n21425     ENNOBLED      8\n5391       BEBLOOD      7\n6923       BLENDED      7\n6984       BLOBBED      7\n7006       BLOODED      7\n7196       BOBBLED      7\n7249       BOGGLED      7\n7394       BOODLED      7\n16562      DEBONED      7\n21424      ENNOBLE      7\n27680      GOBBLED      7\n27689      GOBONEE      7\n42830      NOBBLED      7\n5484        BEDDED      6\n5494        BEDELL      6\n5577        BEEBEE      6\n5683        BEGGED      6\n5708        BEGONE      6\n5850        BELLED      6\n5878        BELONG      6\n5946        BENDED      6\n5947        BENDEE      6\n6922        BLENDE      6\n7001        BLONDE      6\n7189        BOBBED      6\n7195        BOBBLE      6\n7245        BOGGED      6\n7248        BOGGLE      6\n7291        BOLLED      6\n7337        BONBON      6\n7341        BONDED      6\n7361        BONGED      6\n7388        BOOBED      6\n7391        BOOBOO      6\n7393        BOODLE      6\n16561       DEBONE      6\n18930       DOBLON      6\n27485       GLOBED      6\n27676       GOBBED      6\n27679       GOBBLE      6\n37709       LOBBED      6\n42829       NOBBLE      6\n44095       OBLONG      6\n5493         BEDEL      5\n5849         BELLE      5\n5994         BENNE      5\n6910         BLEED      5\n6921         BLEND      5\n7000         BLOND      5\n7003         BLOOD      5\n7214         BODED      5\n7254         BOGLE      5\n7352         BONED      5\n7363         BONGO      5\n7373         BONNE      5\n7397         BOOED      5\n20140        EBBED      5\n27404        GLEBE      5\n27484        GLOBE      5\n36781        LEBEN      5\n37719        LOBED      5\n42836        NOBLE      5\n44104        OBOLE      5\n5601          BEEN      1\n5845          BELL      1\n5941          BEND      1\n5951          BENE      1\n6907          BLEB      1\n6909          BLED      1\n6983          BLOB      1\n7213          BODE      1\n7275          BOLD      1\n7281          BOLE      1\n7289          BOLL      1\n7300          BOLO      1\n7338          BOND      1\n7351          BONE      1\n7360          BONG      1\n7387          BOOB      1\n7455          BOON      1\n20143         EBON      1\n27473         GLOB      1\n27688         GOBO      1\n37717         LOBE      1\n37724         LOBO      1\n44102         OBOE      1\n44103         OBOL      1",
      "text/html": "<div>\n<style scoped>\n    .dataframe tbody tr th:only-of-type {\n        vertical-align: middle;\n    }\n\n    .dataframe tbody tr th {\n        vertical-align: top;\n    }\n\n    .dataframe thead th {\n        text-align: right;\n    }\n</style>\n<table border=\"1\" class=\"dataframe\">\n  <thead>\n    <tr style=\"text-align: right;\">\n      <th></th>\n      <th>Word</th>\n      <th>Score</th>\n    </tr>\n  </thead>\n  <tbody>\n    <tr>\n      <th>7458</th>\n      <td>BOONDOGGLED</td>\n      <td>18</td>\n    </tr>\n    <tr>\n      <th>7457</th>\n      <td>BOONDOGGLE</td>\n      <td>17</td>\n    </tr>\n    <tr>\n      <th>5879</th>\n      <td>BELONGED</td>\n      <td>15</td>\n    </tr>\n    <tr>\n      <th>5392</th>\n      <td>BEBLOODED</td>\n      <td>9</td>\n    </tr>\n    <tr>\n      <th>43000</th>\n      <td>NONBONDED</td>\n      <td>9</td>\n    </tr>\n    <tr>\n      <th>21425</th>\n      <td>ENNOBLED</td>\n      <td>8</td>\n    </tr>\n    <tr>\n      <th>5391</th>\n      <td>BEBLOOD</td>\n      <td>7</td>\n    </tr>\n    <tr>\n      <th>6923</th>\n      <td>BLENDED</td>\n      <td>7</td>\n    </tr>\n    <tr>\n      <th>6984</th>\n      <td>BLOBBED</td>\n      <td>7</td>\n    </tr>\n    <tr>\n      <th>7006</th>\n      <td>BLOODED</td>\n      <td>7</td>\n    </tr>\n    <tr>\n      <th>7196</th>\n      <td>BOBBLED</td>\n      <td>7</td>\n    </tr>\n    <tr>\n      <th>7249</th>\n      <td>BOGGLED</td>\n      <td>7</td>\n    </tr>\n    <tr>\n      <th>7394</th>\n      <td>BOODLED</td>\n      <td>7</td>\n    </tr>\n    <tr>\n      <th>16562</th>\n      <td>DEBONED</td>\n      <td>7</td>\n    </tr>\n    <tr>\n      <th>21424</th>\n      <td>ENNOBLE</td>\n      <td>7</td>\n    </tr>\n    <tr>\n      <th>27680</th>\n      <td>GOBBLED</td>\n      <td>7</td>\n    </tr>\n    <tr>\n      <th>27689</th>\n      <td>GOBONEE</td>\n      <td>7</td>\n    </tr>\n    <tr>\n      <th>42830</th>\n      <td>NOBBLED</td>\n      <td>7</td>\n    </tr>\n    <tr>\n      <th>5484</th>\n      <td>BEDDED</td>\n      <td>6</td>\n    </tr>\n    <tr>\n      <th>5494</th>\n      <td>BEDELL</td>\n      <td>6</td>\n    </tr>\n    <tr>\n      <th>5577</th>\n      <td>BEEBEE</td>\n      <td>6</td>\n    </tr>\n    <tr>\n      <th>5683</th>\n      <td>BEGGED</td>\n      <td>6</td>\n    </tr>\n    <tr>\n      <th>5708</th>\n      <td>BEGONE</td>\n      <td>6</td>\n    </tr>\n    <tr>\n      <th>5850</th>\n      <td>BELLED</td>\n      <td>6</td>\n    </tr>\n    <tr>\n      <th>5878</th>\n      <td>BELONG</td>\n      <td>6</td>\n    </tr>\n    <tr>\n      <th>5946</th>\n      <td>BENDED</td>\n      <td>6</td>\n    </tr>\n    <tr>\n      <th>5947</th>\n      <td>BENDEE</td>\n      <td>6</td>\n    </tr>\n    <tr>\n      <th>6922</th>\n      <td>BLENDE</td>\n      <td>6</td>\n    </tr>\n    <tr>\n      <th>7001</th>\n      <td>BLONDE</td>\n      <td>6</td>\n    </tr>\n    <tr>\n      <th>7189</th>\n      <td>BOBBED</td>\n      <td>6</td>\n    </tr>\n    <tr>\n      <th>7195</th>\n      <td>BOBBLE</td>\n      <td>6</td>\n    </tr>\n    <tr>\n      <th>7245</th>\n      <td>BOGGED</td>\n      <td>6</td>\n    </tr>\n    <tr>\n      <th>7248</th>\n      <td>BOGGLE</td>\n      <td>6</td>\n    </tr>\n    <tr>\n      <th>7291</th>\n      <td>BOLLED</td>\n      <td>6</td>\n    </tr>\n    <tr>\n      <th>7337</th>\n      <td>BONBON</td>\n      <td>6</td>\n    </tr>\n    <tr>\n      <th>7341</th>\n      <td>BONDED</td>\n      <td>6</td>\n    </tr>\n    <tr>\n      <th>7361</th>\n      <td>BONGED</td>\n      <td>6</td>\n    </tr>\n    <tr>\n      <th>7388</th>\n      <td>BOOBED</td>\n      <td>6</td>\n    </tr>\n    <tr>\n      <th>7391</th>\n      <td>BOOBOO</td>\n      <td>6</td>\n    </tr>\n    <tr>\n      <th>7393</th>\n      <td>BOODLE</td>\n      <td>6</td>\n    </tr>\n    <tr>\n      <th>16561</th>\n      <td>DEBONE</td>\n      <td>6</td>\n    </tr>\n    <tr>\n      <th>18930</th>\n      <td>DOBLON</td>\n      <td>6</td>\n    </tr>\n    <tr>\n      <th>27485</th>\n      <td>GLOBED</td>\n      <td>6</td>\n    </tr>\n    <tr>\n      <th>27676</th>\n      <td>GOBBED</td>\n      <td>6</td>\n    </tr>\n    <tr>\n      <th>27679</th>\n      <td>GOBBLE</td>\n      <td>6</td>\n    </tr>\n    <tr>\n      <th>37709</th>\n      <td>LOBBED</td>\n      <td>6</td>\n    </tr>\n    <tr>\n      <th>42829</th>\n      <td>NOBBLE</td>\n      <td>6</td>\n    </tr>\n    <tr>\n      <th>44095</th>\n      <td>OBLONG</td>\n      <td>6</td>\n    </tr>\n    <tr>\n      <th>5493</th>\n      <td>BEDEL</td>\n      <td>5</td>\n    </tr>\n    <tr>\n      <th>5849</th>\n      <td>BELLE</td>\n      <td>5</td>\n    </tr>\n    <tr>\n      <th>5994</th>\n      <td>BENNE</td>\n      <td>5</td>\n    </tr>\n    <tr>\n      <th>6910</th>\n      <td>BLEED</td>\n      <td>5</td>\n    </tr>\n    <tr>\n      <th>6921</th>\n      <td>BLEND</td>\n      <td>5</td>\n    </tr>\n    <tr>\n      <th>7000</th>\n      <td>BLOND</td>\n      <td>5</td>\n    </tr>\n    <tr>\n      <th>7003</th>\n      <td>BLOOD</td>\n      <td>5</td>\n    </tr>\n    <tr>\n      <th>7214</th>\n      <td>BODED</td>\n      <td>5</td>\n    </tr>\n    <tr>\n      <th>7254</th>\n      <td>BOGLE</td>\n      <td>5</td>\n    </tr>\n    <tr>\n      <th>7352</th>\n      <td>BONED</td>\n      <td>5</td>\n    </tr>\n    <tr>\n      <th>7363</th>\n      <td>BONGO</td>\n      <td>5</td>\n    </tr>\n    <tr>\n      <th>7373</th>\n      <td>BONNE</td>\n      <td>5</td>\n    </tr>\n    <tr>\n      <th>7397</th>\n      <td>BOOED</td>\n      <td>5</td>\n    </tr>\n    <tr>\n      <th>20140</th>\n      <td>EBBED</td>\n      <td>5</td>\n    </tr>\n    <tr>\n      <th>27404</th>\n      <td>GLEBE</td>\n      <td>5</td>\n    </tr>\n    <tr>\n      <th>27484</th>\n      <td>GLOBE</td>\n      <td>5</td>\n    </tr>\n    <tr>\n      <th>36781</th>\n      <td>LEBEN</td>\n      <td>5</td>\n    </tr>\n    <tr>\n      <th>37719</th>\n      <td>LOBED</td>\n      <td>5</td>\n    </tr>\n    <tr>\n      <th>42836</th>\n      <td>NOBLE</td>\n      <td>5</td>\n    </tr>\n    <tr>\n      <th>44104</th>\n      <td>OBOLE</td>\n      <td>5</td>\n    </tr>\n    <tr>\n      <th>5601</th>\n      <td>BEEN</td>\n      <td>1</td>\n    </tr>\n    <tr>\n      <th>5845</th>\n      <td>BELL</td>\n      <td>1</td>\n    </tr>\n    <tr>\n      <th>5941</th>\n      <td>BEND</td>\n      <td>1</td>\n    </tr>\n    <tr>\n      <th>5951</th>\n      <td>BENE</td>\n      <td>1</td>\n    </tr>\n    <tr>\n      <th>6907</th>\n      <td>BLEB</td>\n      <td>1</td>\n    </tr>\n    <tr>\n      <th>6909</th>\n      <td>BLED</td>\n      <td>1</td>\n    </tr>\n    <tr>\n      <th>6983</th>\n      <td>BLOB</td>\n      <td>1</td>\n    </tr>\n    <tr>\n      <th>7213</th>\n      <td>BODE</td>\n      <td>1</td>\n    </tr>\n    <tr>\n      <th>7275</th>\n      <td>BOLD</td>\n      <td>1</td>\n    </tr>\n    <tr>\n      <th>7281</th>\n      <td>BOLE</td>\n      <td>1</td>\n    </tr>\n    <tr>\n      <th>7289</th>\n      <td>BOLL</td>\n      <td>1</td>\n    </tr>\n    <tr>\n      <th>7300</th>\n      <td>BOLO</td>\n      <td>1</td>\n    </tr>\n    <tr>\n      <th>7338</th>\n      <td>BOND</td>\n      <td>1</td>\n    </tr>\n    <tr>\n      <th>7351</th>\n      <td>BONE</td>\n      <td>1</td>\n    </tr>\n    <tr>\n      <th>7360</th>\n      <td>BONG</td>\n      <td>1</td>\n    </tr>\n    <tr>\n      <th>7387</th>\n      <td>BOOB</td>\n      <td>1</td>\n    </tr>\n    <tr>\n      <th>7455</th>\n      <td>BOON</td>\n      <td>1</td>\n    </tr>\n    <tr>\n      <th>20143</th>\n      <td>EBON</td>\n      <td>1</td>\n    </tr>\n    <tr>\n      <th>27473</th>\n      <td>GLOB</td>\n      <td>1</td>\n    </tr>\n    <tr>\n      <th>27688</th>\n      <td>GOBO</td>\n      <td>1</td>\n    </tr>\n    <tr>\n      <th>37717</th>\n      <td>LOBE</td>\n      <td>1</td>\n    </tr>\n    <tr>\n      <th>37724</th>\n      <td>LOBO</td>\n      <td>1</td>\n    </tr>\n    <tr>\n      <th>44102</th>\n      <td>OBOE</td>\n      <td>1</td>\n    </tr>\n    <tr>\n      <th>44103</th>\n      <td>OBOL</td>\n      <td>1</td>\n    </tr>\n  </tbody>\n</table>\n</div>"
     },
     "metadata": {},
     "output_type": "display_data"
    }
   ],
   "source": [
    "oSB = SpellingBee(sb_letters)\n",
    "oSB.filt_process()\n",
    "oSB.show_stats()\n",
    "oSB.show_soln()"
   ],
   "metadata": {
    "collapsed": false,
    "pycharm": {
     "name": "#%%\n"
    }
   }
  }
 ],
 "metadata": {
  "kernelspec": {
   "display_name": "Python 3",
   "language": "python",
   "name": "python3"
  },
  "language_info": {
   "codemirror_mode": {
    "name": "ipython",
    "version": 2
   },
   "file_extension": ".py",
   "mimetype": "text/x-python",
   "name": "python",
   "nbconvert_exporter": "python",
   "pygments_lexer": "ipython2",
   "version": "2.7.6"
  }
 },
 "nbformat": 4,
 "nbformat_minor": 0
}