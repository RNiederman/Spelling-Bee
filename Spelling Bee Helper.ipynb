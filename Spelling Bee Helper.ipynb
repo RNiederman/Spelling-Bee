{
 "cells": [
  {
   "cell_type": "code",
   "execution_count": 1,
   "metadata": {
    "collapsed": true
   },
   "outputs": [],
   "source": [
    "import re\n",
    "import sys\n",
    "import pandas as pd\n",
    "import string as st\n",
    "from urllib.request import urlopen"
   ]
  },
  {
   "cell_type": "code",
   "execution_count": 2,
   "outputs": [],
   "source": [
    "def unique_letters(word):\n",
    "    a = set(word)\n",
    "    b = len(a)\n",
    "    return b"
   ],
   "metadata": {
    "collapsed": false,
    "pycharm": {
     "name": "#%%\n"
    }
   }
  },
  {
   "cell_type": "code",
   "execution_count": 3,
   "outputs": [],
   "source": [
    "def spelling_bee_points(wrd):\n",
    "    ul = unique_letters(wrd)\n",
    "    wl = len(wrd)\n",
    "    pts = wl if wl > 4 else 1\n",
    "    panagram = (ul == 7) * 7\n",
    "    pts = pts + panagram\n",
    "    return pts"
   ],
   "metadata": {
    "collapsed": false,
    "pycharm": {
     "name": "#%%\n"
    }
   }
  },
  {
   "cell_type": "code",
   "execution_count": 4,
   "outputs": [],
   "source": [
    "class SpellingBee:\n",
    "\n",
    "    def __init__(self, letters):\n",
    "        self.L = letters.upper()\n",
    "        self.letters_reqd = 7\n",
    "        self.url = 'https://norvig.com/ngrams/enable1.txt'\n",
    "\n",
    "        self.f = urlopen(self.url)\n",
    "        self.w = self.f.read().decode('utf-8').upper().split()\n",
    "        self.w = list(filter(lambda word1: len(word1) >= 4, self.w))\n",
    "        self.w = list(filter(lambda word2: \"S\" not in word2, self.w))\n",
    "        self.u = list(map(unique_letters, self.w))\n",
    "        self.p = list(map(spelling_bee_points, self.w))\n",
    "\n",
    "        self.d = {'Word':  self.w, 'Unique Letters':  self.u, 'Score':  self.p}\n",
    "        self.mwl = pd.DataFrame(self.d)\n",
    "        self.mwl = self.mwl[(self.mwl['Unique Letters']) <= 7]\n",
    "        self.mwl = self.mwl.sort_values(['Score', 'Word'], ascending=(False, True))\n",
    "\n",
    "        self.hc = pd.DataFrame()\n",
    "        self.word_count = 0\n",
    "\n",
    "\n",
    "    def filt_process(self):\n",
    "        ltrs = self.L.upper()\n",
    "        ltrs = re.findall(\"[A-Z]\", ltrs)\n",
    "        center = ltrs[0]\n",
    "        self.hc = self.mwl[self.mwl['Word'].str.contains(center)]\n",
    "        alphabet = set(st.ascii_uppercase)\n",
    "        bad_letters = alphabet.difference(set(ltrs))\n",
    "        for bd_lttr in bad_letters:\n",
    "            self.hc = self.hc[~self.hc['Word'].str.contains(bd_lttr)]\n",
    "        cols = [0, 2]\n",
    "        self.hc = self.hc[self.hc.columns[cols]]\n",
    "\n",
    "    def show_stats(self):\n",
    "        panagrams = self.hc[self.hc['Score'] >= 14]\n",
    "        print(f\"Panagrams: {len(panagrams)}\")\n",
    "        print(f\"Total Points: {sum(self.hc['Score'])}\")\n",
    "        self.word_count = len(self.hc)\n",
    "        print(f\"Words: {self.word_count}\")\n",
    "\n",
    "    def show_soln(self):\n",
    "        print()\n",
    "        pd.set_option('display.max_rows', self.word_count)\n",
    "        display(self.hc)"
   ],
   "metadata": {
    "collapsed": false,
    "pycharm": {
     "name": "#%%\n"
    }
   }
  },
  {
   "cell_type": "code",
   "execution_count": 5,
   "outputs": [],
   "source": [
    "sb_letters = \"Acitypv\""
   ],
   "metadata": {
    "collapsed": false,
    "pycharm": {
     "name": "#%%\n"
    }
   }
  },
  {
   "cell_type": "code",
   "execution_count": 6,
   "outputs": [],
   "source": [
    "reg_ex = re.compile('[^A-Za-z]')\n",
    "tester = reg_ex.sub('', sb_letters)\n",
    "if unique_letters(tester) != 7:\n",
    "    sys.exit(\"Wrong Amount of Letters\")"
   ],
   "metadata": {
    "collapsed": false,
    "pycharm": {
     "name": "#%%\n"
    }
   }
  },
  {
   "cell_type": "code",
   "execution_count": 7,
   "outputs": [
    {
     "name": "stdout",
     "output_type": "stream",
     "text": [
      "Panagrams: 1\n",
      "Total Points: 197\n",
      "Words: 43\n",
      "\n"
     ]
    },
    {
     "data": {
      "text/plain": "            Word  Score\n9526   CAPTIVITY     16\n634     ACTIVITY      8\n9447    CAPACITY      8\n65442   VIVACITY      8\n3863     ATACTIC      7\n49428    PITAPAT      7\n65131    VIATICA      7\n238       ACACIA      6\n3872      ATAVIC      6\n4035      ATYPIC      6\n9464      CAPITA      6\n10160     CAVITY      6\n47077     PAPACY      6\n47085     PAPAYA      6\n47487     PATACA      6\n57987     TACTIC      6\n59666     TICTAC      6\n59868     TIPCAT      6\n65130     VIATIC      6\n3991       ATTIC      5\n8890       CACTI      5\n10081      CATTY      5\n47114      PAPPI      5\n47116      PAPPY      5\n47604      PATTY      5\n57959      TACIT      5\n58369      TATTY      5\n64761      VATIC      5\n65425      VITTA      5\n599         ACTA      1\n3867        ATAP      1\n8857        CACA      1\n10165       CAVY      1\n46645       PACA      1\n46688       PACT      1\n47076       PAPA      1\n47607       PATY      1\n48985       PICA      1\n49427       PITA      1\n57984       TACT      1\n58253       TAPA      1\n65386       VITA      1\n65440       VIVA      1",
      "text/html": "<div>\n<style scoped>\n    .dataframe tbody tr th:only-of-type {\n        vertical-align: middle;\n    }\n\n    .dataframe tbody tr th {\n        vertical-align: top;\n    }\n\n    .dataframe thead th {\n        text-align: right;\n    }\n</style>\n<table border=\"1\" class=\"dataframe\">\n  <thead>\n    <tr style=\"text-align: right;\">\n      <th></th>\n      <th>Word</th>\n      <th>Score</th>\n    </tr>\n  </thead>\n  <tbody>\n    <tr>\n      <th>9526</th>\n      <td>CAPTIVITY</td>\n      <td>16</td>\n    </tr>\n    <tr>\n      <th>634</th>\n      <td>ACTIVITY</td>\n      <td>8</td>\n    </tr>\n    <tr>\n      <th>9447</th>\n      <td>CAPACITY</td>\n      <td>8</td>\n    </tr>\n    <tr>\n      <th>65442</th>\n      <td>VIVACITY</td>\n      <td>8</td>\n    </tr>\n    <tr>\n      <th>3863</th>\n      <td>ATACTIC</td>\n      <td>7</td>\n    </tr>\n    <tr>\n      <th>49428</th>\n      <td>PITAPAT</td>\n      <td>7</td>\n    </tr>\n    <tr>\n      <th>65131</th>\n      <td>VIATICA</td>\n      <td>7</td>\n    </tr>\n    <tr>\n      <th>238</th>\n      <td>ACACIA</td>\n      <td>6</td>\n    </tr>\n    <tr>\n      <th>3872</th>\n      <td>ATAVIC</td>\n      <td>6</td>\n    </tr>\n    <tr>\n      <th>4035</th>\n      <td>ATYPIC</td>\n      <td>6</td>\n    </tr>\n    <tr>\n      <th>9464</th>\n      <td>CAPITA</td>\n      <td>6</td>\n    </tr>\n    <tr>\n      <th>10160</th>\n      <td>CAVITY</td>\n      <td>6</td>\n    </tr>\n    <tr>\n      <th>47077</th>\n      <td>PAPACY</td>\n      <td>6</td>\n    </tr>\n    <tr>\n      <th>47085</th>\n      <td>PAPAYA</td>\n      <td>6</td>\n    </tr>\n    <tr>\n      <th>47487</th>\n      <td>PATACA</td>\n      <td>6</td>\n    </tr>\n    <tr>\n      <th>57987</th>\n      <td>TACTIC</td>\n      <td>6</td>\n    </tr>\n    <tr>\n      <th>59666</th>\n      <td>TICTAC</td>\n      <td>6</td>\n    </tr>\n    <tr>\n      <th>59868</th>\n      <td>TIPCAT</td>\n      <td>6</td>\n    </tr>\n    <tr>\n      <th>65130</th>\n      <td>VIATIC</td>\n      <td>6</td>\n    </tr>\n    <tr>\n      <th>3991</th>\n      <td>ATTIC</td>\n      <td>5</td>\n    </tr>\n    <tr>\n      <th>8890</th>\n      <td>CACTI</td>\n      <td>5</td>\n    </tr>\n    <tr>\n      <th>10081</th>\n      <td>CATTY</td>\n      <td>5</td>\n    </tr>\n    <tr>\n      <th>47114</th>\n      <td>PAPPI</td>\n      <td>5</td>\n    </tr>\n    <tr>\n      <th>47116</th>\n      <td>PAPPY</td>\n      <td>5</td>\n    </tr>\n    <tr>\n      <th>47604</th>\n      <td>PATTY</td>\n      <td>5</td>\n    </tr>\n    <tr>\n      <th>57959</th>\n      <td>TACIT</td>\n      <td>5</td>\n    </tr>\n    <tr>\n      <th>58369</th>\n      <td>TATTY</td>\n      <td>5</td>\n    </tr>\n    <tr>\n      <th>64761</th>\n      <td>VATIC</td>\n      <td>5</td>\n    </tr>\n    <tr>\n      <th>65425</th>\n      <td>VITTA</td>\n      <td>5</td>\n    </tr>\n    <tr>\n      <th>599</th>\n      <td>ACTA</td>\n      <td>1</td>\n    </tr>\n    <tr>\n      <th>3867</th>\n      <td>ATAP</td>\n      <td>1</td>\n    </tr>\n    <tr>\n      <th>8857</th>\n      <td>CACA</td>\n      <td>1</td>\n    </tr>\n    <tr>\n      <th>10165</th>\n      <td>CAVY</td>\n      <td>1</td>\n    </tr>\n    <tr>\n      <th>46645</th>\n      <td>PACA</td>\n      <td>1</td>\n    </tr>\n    <tr>\n      <th>46688</th>\n      <td>PACT</td>\n      <td>1</td>\n    </tr>\n    <tr>\n      <th>47076</th>\n      <td>PAPA</td>\n      <td>1</td>\n    </tr>\n    <tr>\n      <th>47607</th>\n      <td>PATY</td>\n      <td>1</td>\n    </tr>\n    <tr>\n      <th>48985</th>\n      <td>PICA</td>\n      <td>1</td>\n    </tr>\n    <tr>\n      <th>49427</th>\n      <td>PITA</td>\n      <td>1</td>\n    </tr>\n    <tr>\n      <th>57984</th>\n      <td>TACT</td>\n      <td>1</td>\n    </tr>\n    <tr>\n      <th>58253</th>\n      <td>TAPA</td>\n      <td>1</td>\n    </tr>\n    <tr>\n      <th>65386</th>\n      <td>VITA</td>\n      <td>1</td>\n    </tr>\n    <tr>\n      <th>65440</th>\n      <td>VIVA</td>\n      <td>1</td>\n    </tr>\n  </tbody>\n</table>\n</div>"
     },
     "metadata": {},
     "output_type": "display_data"
    }
   ],
   "source": [
    "oSB = SpellingBee(sb_letters)\n",
    "oSB.filt_process()\n",
    "oSB.show_stats()\n",
    "oSB.show_soln()"
   ],
   "metadata": {
    "collapsed": false,
    "pycharm": {
     "name": "#%%\n"
    }
   }
  }
 ],
 "metadata": {
  "kernelspec": {
   "display_name": "Python 3",
   "language": "python",
   "name": "python3"
  },
  "language_info": {
   "codemirror_mode": {
    "name": "ipython",
    "version": 2
   },
   "file_extension": ".py",
   "mimetype": "text/x-python",
   "name": "python",
   "nbconvert_exporter": "python",
   "pygments_lexer": "ipython2",
   "version": "2.7.6"
  }
 },
 "nbformat": 4,
 "nbformat_minor": 0
}