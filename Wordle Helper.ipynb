{
 "cells": [
  {
   "cell_type": "markdown",
   "metadata": {
    "collapsed": true,
    "pycharm": {
     "name": "#%% md\n"
    }
   },
   "source": [
    "https://www.nytimes.com/games/wordle/index.html"
   ]
  },
  {
   "cell_type": "code",
   "execution_count": 53,
   "outputs": [],
   "source": [
    "import re\n",
    "import string\n",
    "import pandas as pd\n",
    "from urllib.request import urlopen"
   ],
   "metadata": {
    "collapsed": false,
    "pycharm": {
     "name": "#%%\n"
    }
   }
  },
  {
   "cell_type": "code",
   "execution_count": 54,
   "outputs": [],
   "source": [
    "def vowel_count(word):\n",
    "    vwels = \"AEIOU\"\n",
    "    st = set(word.upper())\n",
    "    vc = 0\n",
    "    for v in vwels:\n",
    "        vc += v in st\n",
    "    return vc"
   ],
   "metadata": {
    "collapsed": false,
    "pycharm": {
     "name": "#%%\n"
    }
   }
  },
  {
   "cell_type": "code",
   "execution_count": 55,
   "outputs": [],
   "source": [
    "def scrabble_score(word):\n",
    "    scrob_d = {'A': 1, 'B': 3, 'C': 3,  'D': 2, 'E': 1, 'F': 4, 'G': 2,\n",
    "               'H': 4, 'I': 1, 'J': 8,  'K': 5, 'L': 1, 'M': 3, 'N': 1,\n",
    "               'O': 1, 'P': 3, 'Q': 10, 'R': 1, 'S': 1, 'T': 1, 'U': 1,\n",
    "               'V': 4, 'W': 4, 'X': 8,  'Y': 4, 'Z': 10}\n",
    "\n",
    "    uword = word.upper()\n",
    "    sc = 0\n",
    "    for scrab_letter in uword:\n",
    "        sc += scrob_d.get(scrab_letter, 0)\n",
    "    return sc"
   ],
   "metadata": {
    "collapsed": false,
    "pycharm": {
     "name": "#%%\n"
    }
   }
  },
  {
   "cell_type": "code",
   "execution_count": 56,
   "outputs": [],
   "source": [
    "def unique_letters2(word, letter_set1, letter_set2):\n",
    "    x = set(word.upper())\n",
    "    y = set(letter_set1)\n",
    "    z = set(letter_set2)\n",
    "    q = x.difference(y).difference(z)\n",
    "    return len(q)"
   ],
   "metadata": {
    "collapsed": false,
    "pycharm": {
     "name": "#%%\n"
    }
   }
  },
  {
   "cell_type": "code",
   "execution_count": 57,
   "outputs": [],
   "source": [
    "class Wordle:\n",
    "\n",
    "    def __init__(self, omt, iclude, akey):\n",
    "        self.word_length = 5\n",
    "        self.u = 'https://norvig.com/ngrams/enable1.txt'\n",
    "\n",
    "        self.f = urlopen(self.u)\n",
    "        self.w = self.f.read().decode('utf-8').upper().split()\n",
    "        self.w = list(map(lambda word: word.upper(), self.w))\n",
    "        self.w = list(map(lambda word: word.translate(\n",
    "                  str.maketrans('', '', string.punctuation)), self.w))\n",
    "        self.w = list(filter(lambda word: len(word) == self.word_length, self.w))\n",
    "\n",
    "        self.a = ''.join(akey.split())\n",
    "        self.a = self.a[:self.word_length].upper()\n",
    "        self.a = re.sub(\"[^A-Z]\", \"?\", self.a)\n",
    "\n",
    "        self.o = omt.upper()\n",
    "        self.o = re.sub(\"[^A-Z]\", \"\", self.o)\n",
    "\n",
    "        self.i = iclude.upper()\n",
    "        self.i = re.sub(\"[^A-Z]\", \"\", self.i)\n",
    "\n",
    "        self.nlc = []\n",
    "\n",
    "        headers = ['Word', 'New Lttrs', 'Vowels', 'Score']\n",
    "        self.df = pd.DataFrame(columns=headers)\n",
    "\n",
    "        self.rws = 0\n",
    "\n",
    "    def filt(self):\n",
    "        for lttr in self.o:\n",
    "            self.w = [word for word in self.w if lttr not in word]\n",
    "\n",
    "        for lttr in self.i:\n",
    "            self.w = [word for word in self.w if lttr in word]\n",
    "\n",
    "        if self.a != '?????':\n",
    "            patt = self.a.replace(\"?\", \"[A-Z]{1}\")\n",
    "            r = re.compile(patt)\n",
    "            self.w = list(filter(r.match, self.w))\n",
    "\n",
    "    def new_letters(self):\n",
    "        y = set(self.a)\n",
    "        z = set(self.i)\n",
    "        for word in self.w:\n",
    "            x = set(word)\n",
    "            q = x.difference(y).difference(z)\n",
    "            self.nlc.append(len(q))\n",
    "\n",
    "    def build_df(self):\n",
    "        vowels = list(map(vowel_count, self.w))\n",
    "        scrab = list(map(scrabble_score, self.w))\n",
    "        df_raw = {'Word': self.w, 'New Lttrs': self.nlc, 'Vowels': vowels, 'Score': scrab}\n",
    "        temp = pd.DataFrame(df_raw)\n",
    "        self.df = pd.concat([self.df, temp])\n",
    "        self.df = self.df.sort_values(['New Lttrs', 'Vowels', 'Score', 'Word'],\n",
    "                                      ascending=(False, False, True, False))\n",
    "        self.rws = len(self.df)\n",
    "        pd.set_option('display.max_rows', self.rws)\n",
    "        display(self.df)"
   ],
   "metadata": {
    "collapsed": false,
    "pycharm": {
     "name": "#%%\n"
    }
   }
  },
  {
   "cell_type": "code",
   "execution_count": 71,
   "outputs": [],
   "source": [
    "omit = 'rise mou gy'  # These are the Black Letters\n",
    "include = 'a nt'  # These are the Yellow Letters\n",
    "answr = ' ? a ? ? ? '  # These are the Green Letters"
   ],
   "metadata": {
    "collapsed": false,
    "pycharm": {
     "name": "#%%\n"
    }
   }
  },
  {
   "cell_type": "code",
   "execution_count": 72,
   "outputs": [],
   "source": [
    "oW = Wordle(omit, include, answr)"
   ],
   "metadata": {
    "collapsed": false,
    "pycharm": {
     "name": "#%%\n"
    }
   }
  },
  {
   "cell_type": "code",
   "execution_count": 73,
   "outputs": [
    {
     "data": {
      "text/plain": "    Word New Lttrs Vowels Score\n1  NATCH         2      1    10\n0  NATAL         1      1     5\n3  TANKA         1      1     9\n2  QANAT         1      1    14",
      "text/html": "<div>\n<style scoped>\n    .dataframe tbody tr th:only-of-type {\n        vertical-align: middle;\n    }\n\n    .dataframe tbody tr th {\n        vertical-align: top;\n    }\n\n    .dataframe thead th {\n        text-align: right;\n    }\n</style>\n<table border=\"1\" class=\"dataframe\">\n  <thead>\n    <tr style=\"text-align: right;\">\n      <th></th>\n      <th>Word</th>\n      <th>New Lttrs</th>\n      <th>Vowels</th>\n      <th>Score</th>\n    </tr>\n  </thead>\n  <tbody>\n    <tr>\n      <th>1</th>\n      <td>NATCH</td>\n      <td>2</td>\n      <td>1</td>\n      <td>10</td>\n    </tr>\n    <tr>\n      <th>0</th>\n      <td>NATAL</td>\n      <td>1</td>\n      <td>1</td>\n      <td>5</td>\n    </tr>\n    <tr>\n      <th>3</th>\n      <td>TANKA</td>\n      <td>1</td>\n      <td>1</td>\n      <td>9</td>\n    </tr>\n    <tr>\n      <th>2</th>\n      <td>QANAT</td>\n      <td>1</td>\n      <td>1</td>\n      <td>14</td>\n    </tr>\n  </tbody>\n</table>\n</div>"
     },
     "metadata": {},
     "output_type": "display_data"
    }
   ],
   "source": [
    "oW.filt()\n",
    "oW.new_letters()\n",
    "oW.build_df()"
   ],
   "metadata": {
    "collapsed": false,
    "pycharm": {
     "name": "#%%\n"
    }
   }
  }
 ],
 "metadata": {
  "kernelspec": {
   "display_name": "Python 3",
   "language": "python",
   "name": "python3"
  },
  "language_info": {
   "codemirror_mode": {
    "name": "ipython",
    "version": 2
   },
   "file_extension": ".py",
   "mimetype": "text/x-python",
   "name": "python",
   "nbconvert_exporter": "python",
   "pygments_lexer": "ipython2",
   "version": "2.7.6"
  }
 },
 "nbformat": 4,
 "nbformat_minor": 0
}